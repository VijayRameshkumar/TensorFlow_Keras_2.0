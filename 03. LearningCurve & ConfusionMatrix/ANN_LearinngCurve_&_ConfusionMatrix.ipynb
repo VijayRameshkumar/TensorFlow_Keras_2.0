{
  "nbformat": 4,
  "nbformat_minor": 0,
  "metadata": {
    "colab": {
      "name": "ANN -  LearinngCurve & ConfusionMatrix",
      "provenance": [],
      "include_colab_link": true
    },
    "kernelspec": {
      "name": "python3",
      "display_name": "Python 3"
    },
    "accelerator": "GPU"
  },
  "cells": [
    {
      "cell_type": "markdown",
      "metadata": {
        "id": "view-in-github",
        "colab_type": "text"
      },
      "source": [
        "<a href=\"https://colab.research.google.com/github/VijayRameshkumar/TensorFlow_Keras_2.0/blob/master/03.%20LearningCurve%20%26%20ConfusionMatrix/ANN_LearinngCurve_%26_ConfusionMatrix.ipynb\" target=\"_parent\"><img src=\"https://colab.research.google.com/assets/colab-badge.svg\" alt=\"Open In Colab\"/></a>"
      ]
    },
    {
      "cell_type": "code",
      "metadata": {
        "id": "HLyZb_rK0IqT",
        "colab_type": "code",
        "colab": {}
      },
      "source": [
        "# ! pip install tensorflow==2.0 --upgrade\n",
        "# ! pip install tensorflow-gpu==2.0 --upgrade\n",
        "import tensorflow as tf\n"
      ],
      "execution_count": 0,
      "outputs": []
    },
    {
      "cell_type": "code",
      "metadata": {
        "id": "uVaT0AQX0UPb",
        "colab_type": "code",
        "outputId": "4794eb0c-91fa-435d-ffa1-c3e53eb5b0d5",
        "colab": {
          "base_uri": "https://localhost:8080/",
          "height": 163
        }
      },
      "source": [
        "print(tf.__version__)"
      ],
      "execution_count": 1,
      "outputs": [
        {
          "output_type": "error",
          "ename": "NameError",
          "evalue": "ignored",
          "traceback": [
            "\u001b[0;31m---------------------------------------------------------------------------\u001b[0m",
            "\u001b[0;31mNameError\u001b[0m                                 Traceback (most recent call last)",
            "\u001b[0;32m<ipython-input-1-65f07e81e169>\u001b[0m in \u001b[0;36m<module>\u001b[0;34m()\u001b[0m\n\u001b[0;32m----> 1\u001b[0;31m \u001b[0mprint\u001b[0m\u001b[0;34m(\u001b[0m\u001b[0mtf\u001b[0m\u001b[0;34m.\u001b[0m\u001b[0m__version__\u001b[0m\u001b[0;34m)\u001b[0m\u001b[0;34m\u001b[0m\u001b[0;34m\u001b[0m\u001b[0m\n\u001b[0m",
            "\u001b[0;31mNameError\u001b[0m: name 'tf' is not defined"
          ]
        }
      ]
    },
    {
      "cell_type": "code",
      "metadata": {
        "id": "8Vlyx3461dIc",
        "colab_type": "code",
        "colab": {}
      },
      "source": [
        "import tensorflow as tf\n",
        "from tensorflow import keras\n",
        "from tensorflow.keras import Sequential\n",
        "from tensorflow.keras.layers import Flatten, Dense"
      ],
      "execution_count": 0,
      "outputs": []
    },
    {
      "cell_type": "code",
      "metadata": {
        "id": "hhGPB1IAwRFJ",
        "colab_type": "code",
        "colab": {}
      },
      "source": [
        "import numpy as np\n",
        "import pandas as pd\n",
        "import matplotlib.pyplot as plt\n",
        "from sklearn.model_selection import train_test_split"
      ],
      "execution_count": 0,
      "outputs": []
    },
    {
      "cell_type": "code",
      "metadata": {
        "id": "S6fF1HoTwgnz",
        "colab_type": "code",
        "colab": {}
      },
      "source": [
        "from google.colab import drive\n",
        "drive.mount('/content/drive')"
      ],
      "execution_count": 0,
      "outputs": []
    },
    {
      "cell_type": "markdown",
      "metadata": {
        "id": "Dats98khHDia",
        "colab_type": "text"
      },
      "source": [
        "**1. Data - Preparation**"
      ]
    },
    {
      "cell_type": "code",
      "metadata": {
        "id": "XDj5oTOnDK5M",
        "colab_type": "code",
        "colab": {}
      },
      "source": [
        "df = pd.read_csv(\"/content/drive/My Drive/test/bank-customer-churn-modeling/Churn_Modelling.csv\")"
      ],
      "execution_count": 0,
      "outputs": []
    },
    {
      "cell_type": "code",
      "metadata": {
        "id": "m6j8IGu7EKOF",
        "colab_type": "code",
        "colab": {}
      },
      "source": [
        "df.head()"
      ],
      "execution_count": 0,
      "outputs": []
    },
    {
      "cell_type": "code",
      "metadata": {
        "id": "JtrVVe3PDk-x",
        "colab_type": "code",
        "colab": {}
      },
      "source": [
        "x = df.drop(labels=['CustomerId', 'Surname', 'RowNumber', 'Exited'], axis=1)\n",
        "y = df['Exited']"
      ],
      "execution_count": 0,
      "outputs": []
    },
    {
      "cell_type": "code",
      "metadata": {
        "id": "7OsrfnkPED2d",
        "colab_type": "code",
        "colab": {}
      },
      "source": [
        "y.head()"
      ],
      "execution_count": 0,
      "outputs": []
    },
    {
      "cell_type": "code",
      "metadata": {
        "id": "8rn_cMUPEW0M",
        "colab_type": "code",
        "colab": {}
      },
      "source": [
        "cols = x.columns"
      ],
      "execution_count": 0,
      "outputs": []
    },
    {
      "cell_type": "code",
      "metadata": {
        "id": "p7yohQawE0Nj",
        "colab_type": "code",
        "colab": {}
      },
      "source": [
        "x.nunique()"
      ],
      "execution_count": 0,
      "outputs": []
    },
    {
      "cell_type": "markdown",
      "metadata": {
        "id": "9uvlGWhjG6OP",
        "colab_type": "text"
      },
      "source": [
        "**2. Pre - Processing**"
      ]
    },
    {
      "cell_type": "code",
      "metadata": {
        "id": "uZKE9Pg0E6kZ",
        "colab_type": "code",
        "colab": {}
      },
      "source": [
        "from sklearn.preprocessing import LabelEncoder"
      ],
      "execution_count": 0,
      "outputs": []
    },
    {
      "cell_type": "code",
      "metadata": {
        "id": "b8ygYVLAFDNZ",
        "colab_type": "code",
        "colab": {}
      },
      "source": [
        "encoder = LabelEncoder()\n",
        "x['Geography'] = encoder.fit_transform(x['Geography'])\n",
        "x.head()"
      ],
      "execution_count": 0,
      "outputs": []
    },
    {
      "cell_type": "code",
      "metadata": {
        "id": "yZDIcvsiFZTc",
        "colab_type": "code",
        "colab": {}
      },
      "source": [
        "x['Gender'] = encoder.fit_transform(x['Gender'])\n",
        "x.head()"
      ],
      "execution_count": 0,
      "outputs": []
    },
    {
      "cell_type": "code",
      "metadata": {
        "id": "mZH-tIIZFxv9",
        "colab_type": "code",
        "colab": {}
      },
      "source": [
        "x = pd.get_dummies(x, drop_first=True, columns=['Geography'])\n",
        "x.head()"
      ],
      "execution_count": 0,
      "outputs": []
    },
    {
      "cell_type": "markdown",
      "metadata": {
        "id": "J031CnR9HLq5",
        "colab_type": "text"
      },
      "source": [
        "**3. Feature Standardization**"
      ]
    },
    {
      "cell_type": "code",
      "metadata": {
        "id": "5t6wtZQWGvsg",
        "colab_type": "code",
        "colab": {}
      },
      "source": [
        "from sklearn.preprocessing import StandardScaler"
      ],
      "execution_count": 0,
      "outputs": []
    },
    {
      "cell_type": "code",
      "metadata": {
        "id": "JNtE_5MNHf1C",
        "colab_type": "code",
        "colab": {}
      },
      "source": [
        "xtrain, xtest, ytrain, ytest = train_test_split(x, y, test_size=0.2, random_state = 0, stratify = y)"
      ],
      "execution_count": 0,
      "outputs": []
    },
    {
      "cell_type": "code",
      "metadata": {
        "id": "RU-diJ5VHZBn",
        "colab_type": "code",
        "colab": {}
      },
      "source": [
        "scaler = StandardScaler()\n",
        "xtrain = scaler.fit_transform(xtrain)\n",
        "xtest = scaler.transform(xtest)"
      ],
      "execution_count": 0,
      "outputs": []
    },
    {
      "cell_type": "code",
      "metadata": {
        "id": "SN32PFu7IA4T",
        "colab_type": "code",
        "colab": {}
      },
      "source": [
        "xtrain"
      ],
      "execution_count": 0,
      "outputs": []
    },
    {
      "cell_type": "markdown",
      "metadata": {
        "id": "6FBuo1BkIvpe",
        "colab_type": "text"
      },
      "source": [
        "**4. Build ANN model**"
      ]
    },
    {
      "cell_type": "code",
      "metadata": {
        "id": "1Fj-VSCWIrGg",
        "colab_type": "code",
        "colab": {}
      },
      "source": [
        "model = Sequential()\n",
        "model.add(Dense(x.shape[1], activation='relu', input_dim=x.shape[1]))\n",
        "model.add(Dense(128, activation='relu'))\n",
        "model.add(Dense(1, activation='sigmoid'))"
      ],
      "execution_count": 0,
      "outputs": []
    },
    {
      "cell_type": "code",
      "metadata": {
        "id": "23oyuCueJbto",
        "colab_type": "code",
        "colab": {}
      },
      "source": [
        "x.shape[1]"
      ],
      "execution_count": 0,
      "outputs": []
    },
    {
      "cell_type": "code",
      "metadata": {
        "id": "Kj3Ev1_PJdtW",
        "colab_type": "code",
        "colab": {}
      },
      "source": [
        "model.compile(optimizer='adam', loss='binary_crossentropy', metrics=['accuracy'])"
      ],
      "execution_count": 0,
      "outputs": []
    },
    {
      "cell_type": "code",
      "metadata": {
        "id": "h0aJIRsUJ13d",
        "colab_type": "code",
        "colab": {}
      },
      "source": [
        "model.fit(xtrain, ytrain.to_numpy(), batch_size=10, epochs=10, verbose=1)"
      ],
      "execution_count": 0,
      "outputs": []
    },
    {
      "cell_type": "code",
      "metadata": {
        "id": "Q1TWCJlsJ7OW",
        "colab_type": "code",
        "colab": {}
      },
      "source": [
        "y_pred = model.predict_classes(xtest)"
      ],
      "execution_count": 0,
      "outputs": []
    },
    {
      "cell_type": "code",
      "metadata": {
        "id": "_GDg3hdnKfqQ",
        "colab_type": "code",
        "colab": {}
      },
      "source": [
        "y_pred"
      ],
      "execution_count": 0,
      "outputs": []
    },
    {
      "cell_type": "code",
      "metadata": {
        "id": "Oe8XJKnrKmjr",
        "colab_type": "code",
        "colab": {}
      },
      "source": [
        "ytest"
      ],
      "execution_count": 0,
      "outputs": []
    },
    {
      "cell_type": "code",
      "metadata": {
        "id": "bbpieFllKnWO",
        "colab_type": "code",
        "colab": {}
      },
      "source": [
        "model.evaluate(xtest, ytest.to_numpy())"
      ],
      "execution_count": 0,
      "outputs": []
    },
    {
      "cell_type": "markdown",
      "metadata": {
        "id": "Omy4rTWSLMZ9",
        "colab_type": "text"
      },
      "source": [
        "**5. Metrics - Accuracy**"
      ]
    },
    {
      "cell_type": "code",
      "metadata": {
        "id": "ptlD_HsQKyy-",
        "colab_type": "code",
        "colab": {}
      },
      "source": [
        "from sklearn.metrics import confusion_matrix, accuracy_score"
      ],
      "execution_count": 0,
      "outputs": []
    },
    {
      "cell_type": "code",
      "metadata": {
        "id": "QaoRQ0tlK-RE",
        "colab_type": "code",
        "colab": {}
      },
      "source": [
        "confusion_matrix(ytest, y_pred)"
      ],
      "execution_count": 0,
      "outputs": []
    }
  ]
}